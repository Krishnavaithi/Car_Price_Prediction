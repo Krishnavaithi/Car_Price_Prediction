{
 "cells": [
  {
   "cell_type": "code",
   "execution_count": 16,
   "metadata": {},
   "outputs": [],
   "source": [
    "import pandas as pd\n",
    "\n",
    "from sklearn.preprocessing import LabelEncoder\n",
    "from sklearn.preprocessing import StandardScaler\n",
    "from sklearn.model_selection import train_test_split\n",
    "\n",
    "\n",
    "from sklearn.linear_model import LinearRegression\n",
    "from sklearn.linear_model import Lasso\n",
    "from sklearn.linear_model import Ridge\n",
    "from sklearn.svm import SVR\n",
    "from sklearn.ensemble import RandomForestRegressor\n",
    "from sklearn import metrics"
   ]
  },
  {
   "cell_type": "code",
   "execution_count": 17,
   "metadata": {},
   "outputs": [
    {
     "data": {
      "text/plain": [
       "year_of_reference     0\n",
       "month_of_reference    0\n",
       "fipe_code             0\n",
       "authentication        0\n",
       "brand                 0\n",
       "model                 0\n",
       "fuel                  0\n",
       "gear                  0\n",
       "engine_size           0\n",
       "year_model            0\n",
       "avg_price_brl         0\n",
       "dtype: int64"
      ]
     },
     "execution_count": 17,
     "metadata": {},
     "output_type": "execute_result"
    }
   ],
   "source": [
    "dataset = pd.read_csv(r\"V:\\Krishna\\College\\Project\\fipe_cars.csv\")\n",
    "# dataset.head()\n",
    "dataset.isnull().sum()"
   ]
  },
  {
   "cell_type": "code",
   "execution_count": 18,
   "metadata": {},
   "outputs": [],
   "source": [
    "X = dataset.drop(columns=[\"year_of_reference\",\"month_of_reference\",\"fipe_code\",\"authentication\",\"model\",\"avg_price_brl\"],axis=1)\n",
    "Y = dataset[\"avg_price_brl\"]\n",
    "# X[\"brand\"].value_counts()\n",
    "# X[\"engine_size\"].value_counts()\n",
    "# X[\"year_model\"].value_counts().head(25)"
   ]
  },
  {
   "cell_type": "code",
   "execution_count": 19,
   "metadata": {},
   "outputs": [
    {
     "data": {
      "text/html": [
       "<div>\n",
       "<style scoped>\n",
       "    .dataframe tbody tr th:only-of-type {\n",
       "        vertical-align: middle;\n",
       "    }\n",
       "\n",
       "    .dataframe tbody tr th {\n",
       "        vertical-align: top;\n",
       "    }\n",
       "\n",
       "    .dataframe thead th {\n",
       "        text-align: right;\n",
       "    }\n",
       "</style>\n",
       "<table border=\"1\" class=\"dataframe\">\n",
       "  <thead>\n",
       "    <tr style=\"text-align: right;\">\n",
       "      <th></th>\n",
       "      <th>brand</th>\n",
       "      <th>fuel</th>\n",
       "      <th>gear</th>\n",
       "      <th>engine_size</th>\n",
       "      <th>year_model</th>\n",
       "    </tr>\n",
       "  </thead>\n",
       "  <tbody>\n",
       "    <tr>\n",
       "      <th>0</th>\n",
       "      <td>0</td>\n",
       "      <td>2</td>\n",
       "      <td>1</td>\n",
       "      <td>1.5</td>\n",
       "      <td>2005</td>\n",
       "    </tr>\n",
       "    <tr>\n",
       "      <th>1</th>\n",
       "      <td>0</td>\n",
       "      <td>0</td>\n",
       "      <td>1</td>\n",
       "      <td>1.5</td>\n",
       "      <td>2005</td>\n",
       "    </tr>\n",
       "    <tr>\n",
       "      <th>2</th>\n",
       "      <td>0</td>\n",
       "      <td>0</td>\n",
       "      <td>1</td>\n",
       "      <td>1.5</td>\n",
       "      <td>2004</td>\n",
       "    </tr>\n",
       "    <tr>\n",
       "      <th>3</th>\n",
       "      <td>0</td>\n",
       "      <td>0</td>\n",
       "      <td>1</td>\n",
       "      <td>1.5</td>\n",
       "      <td>2003</td>\n",
       "    </tr>\n",
       "    <tr>\n",
       "      <th>4</th>\n",
       "      <td>0</td>\n",
       "      <td>2</td>\n",
       "      <td>1</td>\n",
       "      <td>1.5</td>\n",
       "      <td>2002</td>\n",
       "    </tr>\n",
       "  </tbody>\n",
       "</table>\n",
       "</div>"
      ],
      "text/plain": [
       "   brand  fuel  gear  engine_size  year_model\n",
       "0      0     2     1          1.5        2005\n",
       "1      0     0     1          1.5        2005\n",
       "2      0     0     1          1.5        2004\n",
       "3      0     0     1          1.5        2003\n",
       "4      0     2     1          1.5        2002"
      ]
     },
     "execution_count": 19,
     "metadata": {},
     "output_type": "execute_result"
    }
   ],
   "source": [
    "encoder = LabelEncoder()\n",
    "X[\"fuel\"] = encoder.fit_transform(X[\"fuel\"])\n",
    "X[\"brand\"] = encoder.fit_transform(X[\"brand\"])\n",
    "X[\"gear\"] =  encoder.fit_transform(X[\"gear\"])\n",
    "# X[\"year_model\"] = encoder.fit_transform(X[\"year_model\"])\n",
    "# X[\"engine_size\"].value_counts()\n",
    "# X[\"year_model\"].value_counts().head(25)\n",
    "X.head()"
   ]
  },
  {
   "cell_type": "code",
   "execution_count": 20,
   "metadata": {},
   "outputs": [],
   "source": [
    "scale = StandardScaler()\n",
    "X = scale.fit_transform(X)"
   ]
  },
  {
   "cell_type": "code",
   "execution_count": 21,
   "metadata": {},
   "outputs": [
    {
     "data": {
      "text/plain": [
       "((141262, 5), (60542, 5))"
      ]
     },
     "execution_count": 21,
     "metadata": {},
     "output_type": "execute_result"
    }
   ],
   "source": [
    "X_train,X_test,Y_train,Y_test = train_test_split(X,Y,test_size=0.3,random_state=42)\n",
    "X_train.shape,X_test.shape"
   ]
  },
  {
   "cell_type": "code",
   "execution_count": 22,
   "metadata": {},
   "outputs": [],
   "source": [
    "# linreg = LinearRegression()\n",
    "# linreg.fit(X_train,Y_train)\n",
    "\n",
    "# prediction = linreg.predict(X_test)\n",
    "# metrics.r2_score(Y_test,prediction)"
   ]
  },
  {
   "cell_type": "code",
   "execution_count": 23,
   "metadata": {},
   "outputs": [],
   "source": [
    "# lasreg = Lasso()\n",
    "# lasreg.fit(X_train,Y_train)\n",
    "\n",
    "# prediction = lasreg.predict(X_test)\n",
    "# metrics.r2_score(Y_test,prediction)"
   ]
  },
  {
   "cell_type": "code",
   "execution_count": 24,
   "metadata": {},
   "outputs": [
    {
     "data": {
      "text/plain": [
       "94.41018359842556"
      ]
     },
     "execution_count": 24,
     "metadata": {},
     "output_type": "execute_result"
    }
   ],
   "source": [
    "randfor = RandomForestRegressor(n_estimators = 100)\n",
    "randfor.fit(X_train,Y_train)\n",
    "\n",
    "prediction = randfor.predict(X_test)\n",
    "metrics.r2_score(Y_test,prediction)*100"
   ]
  },
  {
   "cell_type": "code",
   "execution_count": 25,
   "metadata": {},
   "outputs": [],
   "source": [
    "# supvec = SVR(kernel='linear')\n",
    "# supvec.fit(X_train,Y_train)\n",
    "\n",
    "# prediction = supvec.predict(X_test)\n",
    "# metrics.r2_score(Y_test,prediction)"
   ]
  },
  {
   "cell_type": "code",
   "execution_count": 26,
   "metadata": {},
   "outputs": [],
   "source": [
    "# ridreg = Ridge(alpha=1)\n",
    "# ridreg.fit(X_train,Y_train)\n",
    "\n",
    "# prediction = ridreg.predict(X_test)\n",
    "# metrics.r2_score(Y_test,prediction)"
   ]
  },
  {
   "cell_type": "code",
   "execution_count": 27,
   "metadata": {},
   "outputs": [],
   "source": [
    "# with open(\"V:\\Krishna\\College\\Project\\Completed\\Car_Price_model3.pkl\", \"wb\") as model_file:\n",
    "#     pickle.dump(randfor, model_file)"
   ]
  },
  {
   "cell_type": "code",
   "execution_count": 28,
   "metadata": {},
   "outputs": [],
   "source": [
    "import pandas as pd\n",
    "import pickle\n",
    "import tkinter as tk\n",
    "from tkinter import messagebox\n",
    "\n",
    "# Load the machine learning model\n",
    "model = pickle.load(open(\"V:\\Krishna\\College\\Project\\Car_Price_model3.pkl\", \"rb\"))\n",
    "\n",
    "def predict_price():\n",
    "    try:\n",
    "        # Converting Fuel Type\n",
    "        temp = fuel_type_var.get()\n",
    "        if temp == \"Diesel\":\n",
    "            fuel_type = 1\n",
    "        elif temp == \"Petrol\":\n",
    "            fuel_type = 2\n",
    "        elif temp == \"LPG\":\n",
    "            fuel_type = 0\n",
    "\n",
    "        # Converting Transmission Type\n",
    "        temp = transmission_type_var.get()\n",
    "        if temp == \"Manual\":\n",
    "            transmission_type = 1\n",
    "        else:\n",
    "            transmission_type = 0\n",
    "            \n",
    "        # Converting The Brand\n",
    "        manufacturer = manufacturer_var.get()\n",
    "        manufacturer_mapping = {\n",
    "            \"Maruti Suzuki\": 5,\n",
    "            \"Volkswagen\": 7,\n",
    "            \"Hyundai\": 2,\n",
    "            \"Honda\": 1,\n",
    "            \"Toyota\": 6,\n",
    "            \"Fiat\": 0,\n",
    "            \"Renault\": 4,\n",
    "            \"Mahindra\": 3\n",
    "        }\n",
    "        Manufacturer = manufacturer_mapping.get(manufacturer, 0)\n",
    "\n",
    "        # Converting Year\n",
    "        year = year_var.get()\n",
    "\n",
    "        year_mapping = {\n",
    "            2022: 37,\n",
    "            2021: 36,\n",
    "            2020: 35,\n",
    "            2019: 34,\n",
    "            2018: 33,\n",
    "            2017: 32,\n",
    "            2016: 31,\n",
    "            2015: 30,\n",
    "            2014: 29,\n",
    "            2013: 28,\n",
    "            2012: 27,\n",
    "            2011: 26,\n",
    "            2010: 25,\n",
    "            2009: 24,\n",
    "            2008: 23\n",
    "        }\n",
    "        year = year_mapping.get(year, 0)\n",
    "\n",
    "        Engine = engine_entry.get()\n",
    "        Engine = 4.5 - float(Engine)\n",
    "\n",
    "        input_data = pd.DataFrame({\n",
    "            \"brand\": [Manufacturer],\n",
    "            \"year_model\": [year],\n",
    "            \"fuel\": [fuel_type],\n",
    "            \"gear\": [transmission_type],\n",
    "            \"engine_size\": [Engine],\n",
    "        })\n",
    "\n",
    "        predicted_price = model.predict(input_data)[0]\n",
    "        predicted_price = abs(predicted_price * 10) / 150000\n",
    "        predicted_price_label.config(text=f\"Predicted Price: {predicted_price:.2f} lakhs\")\n",
    "    except Exception as e:\n",
    "        messagebox.showerror(\"Error\", f\"An error occurred: {e}\")\n",
    "\n",
    "# Create the main application window\n",
    "root = tk.Tk()\n",
    "root.title(\"Car Price Prediction\")\n",
    "root.geometry(\"400x400\")  # Adjust the window size\n",
    "\n",
    "# Create a frame for better organization\n",
    "frame = tk.Frame(root)\n",
    "frame.pack(padx=20, pady=20)\n",
    "\n",
    "# Manufacturer\n",
    "manufacturer_label = tk.Label(frame, text=\"Brand:\")\n",
    "manufacturer_label.grid(row=0, column=0, padx=10, pady=5)\n",
    "manufacturer_var = tk.StringVar(root)\n",
    "manufacturer_var.set(\"Volkswagen\")\n",
    "manufacturer_option = tk.OptionMenu(frame, manufacturer_var, \"Maruti Suzuki\", \"Volkswagen\", \"Hyundai\", \"Honda\",\n",
    "                                    \"Toyota\", \"Fiat\", \"Renault\", \"Mahindra\")\n",
    "manufacturer_option.grid(row=0, column=1, padx=10, pady=5)\n",
    "\n",
    "# Year\n",
    "year_label = tk.Label(frame, text=\"Year:\")\n",
    "year_label.grid(row=1, column=0, padx=10, pady=5)\n",
    "year_var = tk.IntVar(root)\n",
    "year_var.set(2015)\n",
    "year_option = tk.OptionMenu(frame, year_var, 2008, 2009, 2010, 2011, 2012, 2013, 2014, 2015, 2016, 2017, 2018, 2019, 2020, 2021, 2022)\n",
    "year_option.grid(row=1, column=1, padx=10, pady=5)\n",
    "\n",
    "# Fuel type\n",
    "fuel_type_label = tk.Label(frame, text=\"Fuel Type:\")\n",
    "fuel_type_label.grid(row=2, column=0, padx=10, pady=5)\n",
    "fuel_type_var = tk.StringVar(root)\n",
    "fuel_type_var.set(\"Petrol\")\n",
    "fuel_type_option = tk.OptionMenu(frame, fuel_type_var, \"Petrol\", \"Diesel\", \"LPG\")\n",
    "fuel_type_option.grid(row=2, column=1, padx=10, pady=5)\n",
    "\n",
    "# Transmission\n",
    "transmission_type_label = tk.Label(frame, text=\"Transmission Type:\")\n",
    "transmission_type_label.grid(row=3, column=0, padx=10, pady=5)\n",
    "transmission_type_var = tk.StringVar(root)\n",
    "transmission_type_var.set(\"Manual\")\n",
    "transmission_type_option = tk.OptionMenu(frame, transmission_type_var, \"Manual\", \"Automatic\")\n",
    "transmission_type_option.grid(row=3, column=1, padx=10, pady=5)\n",
    "\n",
    "# Engine CC\n",
    "engine_label = tk.Label(frame, text=\"Engine Size Based on Liters:\")\n",
    "engine_label.grid(row=4, column=0, padx=10, pady=5)\n",
    "engine_entry = tk.Entry(frame)\n",
    "engine_entry.grid(row=4, column=1, padx=10, pady=5)\n",
    "\n",
    "# Button\n",
    "predict_button = tk.Button(root, text=\"Predict Price\", command=predict_price)\n",
    "predict_button.pack()\n",
    "\n",
    "predicted_price_label = tk.Label(root, text=\"\")\n",
    "predicted_price_label.pack()\n",
    "\n",
    "root.mainloop()\n"
   ]
  }
 ],
 "metadata": {
  "kernelspec": {
   "display_name": "Python 3",
   "language": "python",
   "name": "python3"
  },
  "language_info": {
   "codemirror_mode": {
    "name": "ipython",
    "version": 3
   },
   "file_extension": ".py",
   "mimetype": "text/x-python",
   "name": "python",
   "nbconvert_exporter": "python",
   "pygments_lexer": "ipython3",
   "version": "3.11.3"
  },
  "orig_nbformat": 4
 },
 "nbformat": 4,
 "nbformat_minor": 2
}
